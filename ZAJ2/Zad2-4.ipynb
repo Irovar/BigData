{
 "cells": [
  {
   "cell_type": "markdown",
   "metadata": {
    "application/vnd.databricks.v1+cell": {
     "cellMetadata": {
      "byteLimit": 2048000,
      "rowLimit": 10000
     },
     "inputWidgets": {},
     "nuid": "992bfccc-5934-4606-885e-d33a279873bc",
     "showTitle": false,
     "tableResultSettingsMap": {},
     "title": ""
    }
   },
   "source": [
    "INITIAL"
   ]
  },
  {
   "cell_type": "code",
   "execution_count": 0,
   "metadata": {
    "application/vnd.databricks.v1+cell": {
     "cellMetadata": {
      "byteLimit": 2048000,
      "rowLimit": 10000
     },
     "inputWidgets": {},
     "nuid": "701c3222-be86-4820-8474-396726be04e7",
     "showTitle": false,
     "tableResultSettingsMap": {},
     "title": ""
    }
   },
   "outputs": [],
   "source": [
    "file_path = \"dbfs:/FileStore/tables/Files/actors.csv\"\n",
    "from pyspark.sql import SparkSession\n",
    "from pyspark.sql.types import StructType, StructField, StringType, IntegerType\n",
    "from pyspark.sql.functions import when, col\n",
    "broken_file_path = \"dbfs:/FileStore/tables/Files/corrupted_actors.csv\"\n",
    "spark = SparkSession.builder.appName(\"CSV Reader\").getOrCreate()"
   ]
  },
  {
   "cell_type": "markdown",
   "metadata": {
    "application/vnd.databricks.v1+cell": {
     "cellMetadata": {
      "byteLimit": 2048000,
      "rowLimit": 10000
     },
     "inputWidgets": {},
     "nuid": "08a1f942-0838-491f-9d87-41530bcdc660",
     "showTitle": false,
     "tableResultSettingsMap": {},
     "title": ""
    }
   },
   "source": [
    "ZADANIE2"
   ]
  },
  {
   "cell_type": "code",
   "execution_count": 0,
   "metadata": {
    "application/vnd.databricks.v1+cell": {
     "cellMetadata": {
      "byteLimit": 2048000,
      "rowLimit": 10000
     },
     "inputWidgets": {},
     "nuid": "f47d689b-901f-4616-843a-345d35af6d2b",
     "showTitle": false,
     "tableResultSettingsMap": {},
     "title": ""
    }
   },
   "outputs": [
    {
     "output_type": "stream",
     "name": "stdout",
     "output_type": "stream",
     "text": [
      "+-------------+--------+------------+---------------+----------+--------------------+\n|imdb_title_id|ordering|imdb_name_id|       category|       job|          characters|\n+-------------+--------+------------+---------------+----------+--------------------+\n|    tt0000009|       1|   nm0063086|        actress|      null|[Miss Geraldine H...|\n|    tt0000009|       2|   nm0183823|          actor|      null|      [Mr. Hamilton]|\n|    tt0000009|       3|   nm1309758|          actor|      null|[Chauncey Depew -...|\n|    tt0000009|       4|   nm0085156|       director|      null|                null|\n|    tt0000574|       1|   nm0846887|        actress|      null|        [Kate Kelly]|\n|    tt0000574|       2|   nm0846894|          actor|      null|     [School Master]|\n|    tt0000574|       3|   nm3002376|          actor|      null|        [Steve Hart]|\n|    tt0000574|       4|   nm0170118|        actress|      null|                null|\n|    tt0000574|       5|   nm0846879|       director|      null|                null|\n|    tt0000574|       6|   nm0317210|       producer|  producer|                null|\n|    tt0000574|       7|   nm0425854|       producer|  producer|                null|\n|    tt0000574|       8|   nm0846911|       producer|  producer|                null|\n|    tt0000574|       9|   nm2421834|       composer|      null|                null|\n|    tt0000574|      10|   nm0675239|cinematographer|      null|                null|\n|    tt0001892|       1|   nm0003425|        actress|      null|            [Stella]|\n|    tt0001892|       2|   nm0699637|          actor|      null|[Grev Johan Waldb...|\n|    tt0001892|       3|   nm0375839|          actor|      null|[Hofjuveler A. Hi...|\n|    tt0001892|       4|   nm0016799|          actor|      null|                null|\n|    tt0001892|       5|   nm0300487|       director|      null|                null|\n|    tt0001892|       6|   nm2131092|         writer|screenplay|                null|\n+-------------+--------+------------+---------------+----------+--------------------+\nonly showing top 20 rows\n\n"
     ]
    }
   ],
   "source": [
    "schema = StructType([\n",
    "    StructField(\"imdb_title_id\", StringType(), True),\n",
    "    StructField(\"ordering\", IntegerType(), True),\n",
    "    StructField(\"imdb_name_id\", StringType(), True),\n",
    "    StructField(\"category\", StringType(), True),\n",
    "    StructField(\"job\", StringType(), True),\n",
    "    StructField(\"characters\", StringType(), True)\n",
    "])\n",
    "\n",
    "df = spark.read.csv(file_path, header=True, schema=schema, inferSchema=False)\n",
    "df.show()"
   ]
  },
  {
   "cell_type": "markdown",
   "metadata": {
    "application/vnd.databricks.v1+cell": {
     "cellMetadata": {
      "byteLimit": 2048000,
      "rowLimit": 10000
     },
     "inputWidgets": {},
     "nuid": "0d573aa1-21ec-4dd8-b6a2-eb0600dd8641",
     "showTitle": false,
     "tableResultSettingsMap": {},
     "title": ""
    }
   },
   "source": [
    "ZADANIE3"
   ]
  },
  {
   "cell_type": "markdown",
   "metadata": {
    "application/vnd.databricks.v1+cell": {
     "cellMetadata": {
      "byteLimit": 2048000,
      "rowLimit": 10000
     },
     "inputWidgets": {},
     "nuid": "c1d0b4b3-2cc4-4c9b-b67e-8d6451a112bf",
     "showTitle": false,
     "tableResultSettingsMap": {},
     "title": ""
    }
   },
   "source": [
    "CREATING BROKEN FILE CSV"
   ]
  },
  {
   "cell_type": "code",
   "execution_count": 0,
   "metadata": {
    "application/vnd.databricks.v1+cell": {
     "cellMetadata": {
      "byteLimit": 2048000,
      "rowLimit": 10000
     },
     "inputWidgets": {},
     "nuid": "cd9ec577-0a8c-4a3a-99e8-c643b9b1bb38",
     "showTitle": false,
     "tableResultSettingsMap": {},
     "title": ""
    }
   },
   "outputs": [
    {
     "output_type": "stream",
     "name": "stdout",
     "output_type": "stream",
     "text": [
      "+-------------+--------+------------+---------------+----------+--------------------+\n|imdb_title_id|ordering|imdb_name_id|       category|       job|          characters|\n+-------------+--------+------------+---------------+----------+--------------------+\n|    tt0000009|       1|   nm0063086|        actress|      null|[Miss Geraldine H...|\n|    tt0000009|      XD|   nm0183823|          actor|      null|      [Mr. Hamilton]|\n|    tt0000009|       3|   nm1309758|          actor|      null|[Chauncey Depew -...|\n|    tt0000009|       4|   nm0085156|       director|      null|                null|\n|    tt0000574|       1|   nm0846887|        actress|      null|        [Kate Kelly]|\n|    tt0000574|      XD|   nm0846894|          actor|      null|     [School Master]|\n|    tt0000574|       3|   nm3002376|          actor|      null|        [Steve Hart]|\n|    tt0000574|       4|   nm0170118|        actress|      null|                null|\n|    tt0000574|      XD|   nm0846879|       director|      null|                null|\n|    tt0000574|       6|   nm0317210|       producer|  producer|                null|\n|    tt0000574|       7|   nm0425854|       producer|  producer|                null|\n|    tt0000574|       8|   nm0846911|       producer|  producer|                null|\n|    tt0000574|       9|   nm2421834|       composer|      null|                null|\n|    tt0000574|      10|   nm0675239|cinematographer|      null|                null|\n|    tt0001892|       1|   nm0003425|        actress|      null|            [Stella]|\n|    tt0001892|      XD|   nm0699637|          actor|      null|[Grev Johan Waldb...|\n|    tt0001892|       3|   nm0375839|          actor|      null|[Hofjuveler A. Hi...|\n|    tt0001892|       4|   nm0016799|          actor|      null|                null|\n|    tt0001892|      XD|   nm0300487|       director|      null|                null|\n|    tt0001892|       6|   nm2131092|         writer|screenplay|                null|\n+-------------+--------+------------+---------------+----------+--------------------+\nonly showing top 20 rows\n\n"
     ]
    }
   ],
   "source": [
    "df2 = df.withColumn(\n",
    "    \"ordering\", \n",
    "    when((col(\"ordering\") == 5) | (col(\"ordering\") == 2), \"XD\").otherwise(col(\"ordering\"))\n",
    ")\n",
    "df2.show()\n",
    "df2.write.csv(broken_file_path , header=True, mode=\"overwrite\")"
   ]
  },
  {
   "cell_type": "markdown",
   "metadata": {
    "application/vnd.databricks.v1+cell": {
     "cellMetadata": {
      "byteLimit": 2048000,
      "rowLimit": 10000
     },
     "inputWidgets": {},
     "nuid": "2a42f076-5d28-424d-a12c-7053cf063411",
     "showTitle": false,
     "tableResultSettingsMap": {},
     "title": ""
    }
   },
   "source": [
    "PERMISSIVE"
   ]
  },
  {
   "cell_type": "code",
   "execution_count": 0,
   "metadata": {
    "application/vnd.databricks.v1+cell": {
     "cellMetadata": {
      "byteLimit": 2048000,
      "rowLimit": 10000
     },
     "inputWidgets": {},
     "nuid": "a6ba55aa-e9c2-484c-96bd-72de42092cd1",
     "showTitle": false,
     "tableResultSettingsMap": {},
     "title": ""
    }
   },
   "outputs": [
    {
     "output_type": "stream",
     "name": "stdout",
     "output_type": "stream",
     "text": [
      "+-------------+--------+------------+---------------+----------+--------------------+\n|imdb_title_id|ordering|imdb_name_id|       category|       job|          characters|\n+-------------+--------+------------+---------------+----------+--------------------+\n|    tt0000009|       1|   nm0063086|        actress|      null|[Miss Geraldine H...|\n|    tt0000009|    null|   nm0183823|          actor|      null|      [Mr. Hamilton]|\n|    tt0000009|       3|   nm1309758|          actor|      null|[Chauncey Depew -...|\n|    tt0000009|       4|   nm0085156|       director|      null|                null|\n|    tt0000574|       1|   nm0846887|        actress|      null|        [Kate Kelly]|\n|    tt0000574|    null|   nm0846894|          actor|      null|     [School Master]|\n|    tt0000574|       3|   nm3002376|          actor|      null|        [Steve Hart]|\n|    tt0000574|       4|   nm0170118|        actress|      null|                null|\n|    tt0000574|    null|   nm0846879|       director|      null|                null|\n|    tt0000574|       6|   nm0317210|       producer|  producer|                null|\n|    tt0000574|       7|   nm0425854|       producer|  producer|                null|\n|    tt0000574|       8|   nm0846911|       producer|  producer|                null|\n|    tt0000574|       9|   nm2421834|       composer|      null|                null|\n|    tt0000574|      10|   nm0675239|cinematographer|      null|                null|\n|    tt0001892|       1|   nm0003425|        actress|      null|            [Stella]|\n|    tt0001892|    null|   nm0699637|          actor|      null|[Grev Johan Waldb...|\n|    tt0001892|       3|   nm0375839|          actor|      null|[Hofjuveler A. Hi...|\n|    tt0001892|       4|   nm0016799|          actor|      null|                null|\n|    tt0001892|    null|   nm0300487|       director|      null|                null|\n|    tt0001892|       6|   nm2131092|         writer|screenplay|                null|\n+-------------+--------+------------+---------------+----------+--------------------+\nonly showing top 20 rows\n\n"
     ]
    }
   ],
   "source": [
    "df_permissive = spark.read.csv(broken_file_path, header=True, schema=schema, mode=\"PERMISSIVE\")\n",
    "df_permissive.show()"
   ]
  },
  {
   "cell_type": "markdown",
   "metadata": {
    "application/vnd.databricks.v1+cell": {
     "cellMetadata": {
      "byteLimit": 2048000,
      "rowLimit": 10000
     },
     "inputWidgets": {},
     "nuid": "f4b651df-b634-44cf-aeb4-2d469f18822c",
     "showTitle": false,
     "tableResultSettingsMap": {},
     "title": ""
    }
   },
   "source": [
    "DROPMALFORMED"
   ]
  },
  {
   "cell_type": "code",
   "execution_count": 0,
   "metadata": {
    "application/vnd.databricks.v1+cell": {
     "cellMetadata": {
      "byteLimit": 2048000,
      "rowLimit": 10000
     },
     "inputWidgets": {},
     "nuid": "3892a891-df8c-45c9-97c5-7777c7a17c74",
     "showTitle": false,
     "tableResultSettingsMap": {},
     "title": ""
    }
   },
   "outputs": [
    {
     "output_type": "stream",
     "name": "stdout",
     "output_type": "stream",
     "text": [
      "+-------------+--------+------------+---------------+----------+--------------------+\n|imdb_title_id|ordering|imdb_name_id|       category|       job|          characters|\n+-------------+--------+------------+---------------+----------+--------------------+\n|    tt0000009|       1|   nm0063086|        actress|      null|[Miss Geraldine H...|\n|    tt0000009|       3|   nm1309758|          actor|      null|[Chauncey Depew -...|\n|    tt0000009|       4|   nm0085156|       director|      null|                null|\n|    tt0000574|       1|   nm0846887|        actress|      null|        [Kate Kelly]|\n|    tt0000574|       3|   nm3002376|          actor|      null|        [Steve Hart]|\n|    tt0000574|       4|   nm0170118|        actress|      null|                null|\n|    tt0000574|       6|   nm0317210|       producer|  producer|                null|\n|    tt0000574|       7|   nm0425854|       producer|  producer|                null|\n|    tt0000574|       8|   nm0846911|       producer|  producer|                null|\n|    tt0000574|       9|   nm2421834|       composer|      null|                null|\n|    tt0000574|      10|   nm0675239|cinematographer|      null|                null|\n|    tt0001892|       1|   nm0003425|        actress|      null|            [Stella]|\n|    tt0001892|       3|   nm0375839|          actor|      null|[Hofjuveler A. Hi...|\n|    tt0001892|       4|   nm0016799|          actor|      null|                null|\n|    tt0001892|       6|   nm2131092|         writer|screenplay|                null|\n|    tt0001892|       7|   nm0423762|cinematographer|      null|                null|\n|    tt0001892|       8|   nm0005869|cinematographer|      null|                null|\n|    tt0001892|       9|   nm0282348|          actor|      null|                null|\n|    tt0001892|      10|   nm2325688|        actress|      null|                null|\n|    tt0002101|       1|   nm0306947|        actress|      null|[Cleopatra - Quee...|\n+-------------+--------+------------+---------------+----------+--------------------+\nonly showing top 20 rows\n\n"
     ]
    }
   ],
   "source": [
    "df_dropmalformed = spark.read.csv(broken_file_path, header=True, schema=schema, mode=\"DROPMALFORMED\")\n",
    "df_dropmalformed.show()"
   ]
  },
  {
   "cell_type": "markdown",
   "metadata": {
    "application/vnd.databricks.v1+cell": {
     "cellMetadata": {
      "byteLimit": 2048000,
      "rowLimit": 10000
     },
     "inputWidgets": {},
     "nuid": "9c38d321-4cda-4687-96f1-61550a4e83ee",
     "showTitle": false,
     "tableResultSettingsMap": {},
     "title": ""
    }
   },
   "source": [
    "FAILFAST"
   ]
  },
  {
   "cell_type": "code",
   "execution_count": 0,
   "metadata": {
    "application/vnd.databricks.v1+cell": {
     "cellMetadata": {
      "byteLimit": 2048000,
      "rowLimit": 10000
     },
     "inputWidgets": {},
     "nuid": "bc3dd41d-13fc-401b-8c84-46635382eeeb",
     "showTitle": false,
     "tableResultSettingsMap": {},
     "title": ""
    }
   },
   "outputs": [
    {
     "output_type": "stream",
     "name": "stdout",
     "output_type": "stream",
     "text": [
      "WyPERDOLIO SIĘ COŚ\n"
     ]
    }
   ],
   "source": [
    "try:\n",
    "    df_failfast = spark.read.csv(broken_file_path, header=True, schema=schema, mode=\"FAILFAST\")\n",
    "    df_failfast.show()\n",
    "except Exception as e:\n",
    "    print(\"WyPERDOLIO SIĘ COŚ\")"
   ]
  },
  {
   "cell_type": "markdown",
   "metadata": {
    "application/vnd.databricks.v1+cell": {
     "cellMetadata": {
      "byteLimit": 2048000,
      "rowLimit": 10000
     },
     "inputWidgets": {},
     "nuid": "e2372c7d-c869-4003-8537-d0de7e01342c",
     "showTitle": false,
     "tableResultSettingsMap": {},
     "title": ""
    }
   },
   "source": [
    "ZADANIE4"
   ]
  },
  {
   "cell_type": "markdown",
   "metadata": {
    "application/vnd.databricks.v1+cell": {
     "cellMetadata": {
      "byteLimit": 2048000,
      "rowLimit": 10000
     },
     "inputWidgets": {},
     "nuid": "606bf84c-70b2-4947-a2ca-e525da1f9758",
     "showTitle": false,
     "tableResultSettingsMap": {},
     "title": ""
    }
   },
   "source": [
    "WRITE"
   ]
  },
  {
   "cell_type": "code",
   "execution_count": 0,
   "metadata": {
    "application/vnd.databricks.v1+cell": {
     "cellMetadata": {
      "byteLimit": 2048000,
      "rowLimit": 10000
     },
     "inputWidgets": {},
     "nuid": "6a887bef-052f-4181-b9b2-8dfcafcb5f03",
     "showTitle": false,
     "tableResultSettingsMap": {},
     "title": ""
    }
   },
   "outputs": [],
   "source": [
    "df.write.parquet(\"dbfs:/FileStore/Tables/Files/parquet2.parquet\", mode=\"overwrite\")\n",
    "df.write.json(\"dbfs:/FileStore/Tables/Files/json2.json\", mode=\"overwrite\")"
   ]
  },
  {
   "cell_type": "markdown",
   "metadata": {
    "application/vnd.databricks.v1+cell": {
     "cellMetadata": {
      "byteLimit": 2048000,
      "rowLimit": 10000
     },
     "inputWidgets": {},
     "nuid": "8a9c9492-2c7a-4c1f-81f8-472a53e426f0",
     "showTitle": false,
     "tableResultSettingsMap": {},
     "title": ""
    }
   },
   "source": [
    "READ"
   ]
  },
  {
   "cell_type": "code",
   "execution_count": 0,
   "metadata": {
    "application/vnd.databricks.v1+cell": {
     "cellMetadata": {
      "byteLimit": 2048000,
      "rowLimit": 10000
     },
     "inputWidgets": {},
     "nuid": "fda5ff7b-34c8-4621-9c2b-64cb2ef9edc9",
     "showTitle": false,
     "tableResultSettingsMap": {},
     "title": ""
    }
   },
   "outputs": [
    {
     "output_type": "stream",
     "name": "stdout",
     "output_type": "stream",
     "text": [
      "+-------------+--------+------------+-------------------+--------+------------+\n|imdb_title_id|ordering|imdb_name_id|           category|     job|  characters|\n+-------------+--------+------------+-------------------+--------+------------+\n|    tt3249124|       4|   nm6005417|              actor|    null|       [Tom]|\n|    tt3249124|       5|   nm1871431|           director|    null|        null|\n|    tt3249124|       6|   nm1862032|           producer|producer|        null|\n|    tt3249124|       7|   nm4261282|           composer|    null|        null|\n|    tt3249124|       8|   nm1677303|production_designer|    null|        null|\n|    tt3249158|       1|   nm2946712|              actor|    null| [Sebastian]|\n|    tt3249158|       2|   nm2578315|            actress|    null|   [Miranda]|\n|    tt3249158|       3|   nm7033017|              actor|    null|   [Jacinto]|\n|    tt3249158|       4|   nm7033021|              actor|    null|      [Rosa]|\n|    tt3249158|       5|   nm1848095|           director|    null|        null|\n|    tt3249158|       6|   nm1120960|           producer|producer|        null|\n|    tt3249158|       7|   nm4065853|           producer|producer|        null|\n|    tt3249158|       8|   nm1680580|           producer|producer|        null|\n|    tt3249158|       9|   nm2613542|           composer|    null|        null|\n|    tt3249158|      10|   nm0608209|    cinematographer|    null|        null|\n|    tt3249524|       1|   nm2768721|            actress|    null|     [Polly]|\n|    tt3249524|       2|   nm0059088|            actress|    null|    [Rachel]|\n|    tt3249524|       3|   nm6005667|            actress|    null|    [Rachel]|\n|    tt3249524|       4|   nm6736174|              actor|    null|[Bigg Weezy]|\n|    tt3249524|       5|   nm1053523|           director|    null|        null|\n+-------------+--------+------------+-------------------+--------+------------+\nonly showing top 20 rows\n\n+-------------------+------------+------------+-------------+--------+--------+\n|           category|  characters|imdb_name_id|imdb_title_id|     job|ordering|\n+-------------------+------------+------------+-------------+--------+--------+\n|              actor|       [Tom]|   nm6005417|    tt3249124|    null|       4|\n|           director|        null|   nm1871431|    tt3249124|    null|       5|\n|           producer|        null|   nm1862032|    tt3249124|producer|       6|\n|           composer|        null|   nm4261282|    tt3249124|    null|       7|\n|production_designer|        null|   nm1677303|    tt3249124|    null|       8|\n|              actor| [Sebastian]|   nm2946712|    tt3249158|    null|       1|\n|            actress|   [Miranda]|   nm2578315|    tt3249158|    null|       2|\n|              actor|   [Jacinto]|   nm7033017|    tt3249158|    null|       3|\n|              actor|      [Rosa]|   nm7033021|    tt3249158|    null|       4|\n|           director|        null|   nm1848095|    tt3249158|    null|       5|\n|           producer|        null|   nm1120960|    tt3249158|producer|       6|\n|           producer|        null|   nm4065853|    tt3249158|producer|       7|\n|           producer|        null|   nm1680580|    tt3249158|producer|       8|\n|           composer|        null|   nm2613542|    tt3249158|    null|       9|\n|    cinematographer|        null|   nm0608209|    tt3249158|    null|      10|\n|            actress|     [Polly]|   nm2768721|    tt3249524|    null|       1|\n|            actress|    [Rachel]|   nm0059088|    tt3249524|    null|       2|\n|            actress|    [Rachel]|   nm6005667|    tt3249524|    null|       3|\n|              actor|[Bigg Weezy]|   nm6736174|    tt3249524|    null|       4|\n|           director|        null|   nm1053523|    tt3249524|    null|       5|\n+-------------------+------------+------------+-------------+--------+--------+\nonly showing top 20 rows\n\n"
     ]
    }
   ],
   "source": [
    "df_parquet = spark.read.parquet(\"dbfs:/FileStore/Tables/Files/parquet2.parquet\")\n",
    "df_parquet.show()\n",
    "\n",
    "df_json = spark.read.json(\"dbfs:/FileStore/Tables/Files/json2.json\")\n",
    "df_json.show()"
   ]
  }
 ],
 "metadata": {
  "application/vnd.databricks.v1+notebook": {
   "computePreferences": null,
   "dashboards": [],
   "environmentMetadata": null,
   "language": "python",
   "notebookMetadata": {
    "pythonIndentUnit": 4
   },
   "notebookName": "Zad2-4",
   "widgets": {}
  },
  "kernelspec": {
   "display_name": "Python 3",
   "language": "python",
   "name": "python3"
  },
  "language_info": {
   "codemirror_mode": {
    "name": "ipython",
    "version": 3
   },
   "file_extension": ".py",
   "mimetype": "text/x-python",
   "name": "python",
   "nbconvert_exporter": "python",
   "pygments_lexer": "ipython3",
   "version": "3.11.0"
  }
 },
 "nbformat": 4,
 "nbformat_minor": 0
}
