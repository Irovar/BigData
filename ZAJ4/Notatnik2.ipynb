{
 "cells": [
  {
   "cell_type": "markdown",
   "metadata": {},
   "source": [
    "ZADANIE3"
   ]
  },
  {
   "cell_type": "markdown",
   "metadata": {},
   "source": [
    "INITIAL"
   ]
  },
  {
   "cell_type": "code",
   "execution_count": 1,
   "metadata": {},
   "outputs": [],
   "source": [
    "from pyspark.sql import SparkSession\n",
    "from pyspark.sql.window import Window\n",
    "from pyspark.sql.functions import sum, avg, count, min, max, row_number"
   ]
  },
  {
   "cell_type": "code",
   "execution_count": 8,
   "metadata": {},
   "outputs": [
    {
     "name": "stdout",
     "output_type": "stream",
     "text": [
      "+---------+----------+-------+------------------+----------+-----------+-----------+-----------+\n",
      "|AccountId|  TranDate|TranAmt|            RunAvg|RunTranQty|RunSmallAmt|RunLargeAmt|RunTotalAmt|\n",
      "+---------+----------+-------+------------------+----------+-----------+-----------+-----------+\n",
      "|        1|2011-01-01|    500|             500.0|         1|        500|        500|        500|\n",
      "|        1|2011-01-15|     50|             275.0|         2|         50|        500|        550|\n",
      "|        1|2011-01-22|    250| 266.6666666666667|         3|         50|        500|        800|\n",
      "|        1|2011-01-24|     75|            218.75|         4|         50|        500|        875|\n",
      "|        1|2011-01-26|    125|             200.0|         5|         50|        500|       1000|\n",
      "|        1|2011-01-28|    175|195.83333333333334|         6|         50|        500|       1175|\n",
      "|        2|2011-01-01|    500|             500.0|         1|        500|        500|        500|\n",
      "|        2|2011-01-15|     50|             275.0|         2|         50|        500|        550|\n",
      "|        2|2011-01-22|     25|191.66666666666666|         3|         25|        500|        575|\n",
      "|        2|2011-01-23|    125|             175.0|         4|         25|        500|        700|\n",
      "|        2|2011-01-26|    200|             180.0|         5|         25|        500|        900|\n",
      "|        2|2011-01-29|    250|191.66666666666666|         6|         25|        500|       1150|\n",
      "|        3|2011-01-01|    500|             500.0|         1|        500|        500|        500|\n",
      "|        3|2011-01-15|     50|             275.0|         2|         50|        500|        550|\n",
      "|        3|2011-01-22|   5000|            1850.0|         3|         50|       5000|       5550|\n",
      "|        3|2011-01-25|    550|            1525.0|         4|         50|       5000|       6100|\n",
      "|        3|2011-01-27|     95|            1239.0|         5|         50|       5000|       6195|\n",
      "|        3|2011-01-30|   2500|1449.1666666666667|         6|         50|       5000|       8695|\n",
      "+---------+----------+-------+------------------+----------+-----------+-----------+-----------+\n",
      "\n"
     ]
    }
   ],
   "source": [
    "spark = SparkSession.builder.appName(\"WindowedAggregates\").getOrCreate()\n",
    "\n",
    "data_transactions = [\n",
    "    (1, '2011-01-01', 500), (1, '2011-01-15', 50), (1, '2011-01-22', 250), \n",
    "    (1, '2011-01-24', 75), (1, '2011-01-26', 125), (1, '2011-01-28', 175),\n",
    "    (2, '2011-01-01', 500), (2, '2011-01-15', 50), (2, '2011-01-22', 25), \n",
    "    (2, '2011-01-23', 125), (2, '2011-01-26', 200), (2, '2011-01-29', 250),\n",
    "    (3, '2011-01-01', 500), (3, '2011-01-15', 50), (3, '2011-01-22', 5000), \n",
    "    (3, '2011-01-25', 550), (3, '2011-01-27', 95), (3, '2011-01-30', 2500)\n",
    "]\n",
    "columns_transactions = [\"AccountId\", \"TranDate\", \"TranAmt\"]\n",
    "dataframe_transactions = spark.createDataFrame(data_transactions, columns_transactions)\n",
    "\n",
    "windowSpec = Window.partitionBy(\"AccountId\").orderBy(\"TranDate\")\n",
    "\n",
    "df_transactions = dataframe_transactions.withColumn(\"RunAvg\", avg(\"TranAmt\").over(windowSpec))\n",
    "df_transactions = df_transactions.withColumn(\"RunTranQty\", count(\"TranAmt\").over(windowSpec))\n",
    "df_transactions = df_transactions.withColumn(\"RunSmallAmt\", min(\"TranAmt\").over(windowSpec))\n",
    "df_transactions = df_transactions.withColumn(\"RunLargeAmt\", max(\"TranAmt\").over(windowSpec))\n",
    "df_transactions = df_transactions.withColumn(\"RunTotalAmt\", sum(\"TranAmt\").over(windowSpec))\n",
    "\n",
    "df_transactions.show()"
   ]
  },
  {
   "cell_type": "code",
   "execution_count": 9,
   "metadata": {},
   "outputs": [
    {
     "name": "stdout",
     "output_type": "stream",
     "text": [
      "+---------+----------+-------+------------------+--------+--------+--------+----------+---+\n",
      "|AccountId|  TranDate|TranAmt|          SlideAvg|SlideQty|SlideMin|SlideMax|SlideTotal| RN|\n",
      "+---------+----------+-------+------------------+--------+--------+--------+----------+---+\n",
      "|        1|2011-01-01|    500|             500.0|       1|     500|     500|       500|  1|\n",
      "|        1|2011-01-15|     50|             275.0|       2|      50|     500|       550|  2|\n",
      "|        1|2011-01-22|    250| 266.6666666666667|       3|      50|     500|       800|  3|\n",
      "|        1|2011-01-24|     75|             125.0|       3|      50|     250|       375|  4|\n",
      "|        1|2011-01-26|    125|             150.0|       3|      75|     250|       450|  5|\n",
      "|        1|2011-01-28|    175|             125.0|       3|      75|     175|       375|  6|\n",
      "|        2|2011-01-01|    500|             500.0|       1|     500|     500|       500|  1|\n",
      "|        2|2011-01-15|     50|             275.0|       2|      50|     500|       550|  2|\n",
      "|        2|2011-01-22|     25|191.66666666666666|       3|      25|     500|       575|  3|\n",
      "|        2|2011-01-23|    125| 66.66666666666667|       3|      25|     125|       200|  4|\n",
      "|        2|2011-01-26|    200|116.66666666666667|       3|      25|     200|       350|  5|\n",
      "|        2|2011-01-29|    250|191.66666666666666|       3|     125|     250|       575|  6|\n",
      "|        3|2011-01-01|    500|             500.0|       1|     500|     500|       500|  1|\n",
      "|        3|2011-01-15|     50|             275.0|       2|      50|     500|       550|  2|\n",
      "|        3|2011-01-22|   5000|            1850.0|       3|      50|    5000|      5550|  3|\n",
      "|        3|2011-01-25|    550|1866.6666666666667|       3|      50|    5000|      5600|  4|\n",
      "|        3|2011-01-27|     95|1881.6666666666667|       3|      95|    5000|      5645|  5|\n",
      "|        3|2011-01-30|   2500|1048.3333333333333|       3|      95|    2500|      3145|  6|\n",
      "+---------+----------+-------+------------------+--------+--------+--------+----------+---+\n",
      "\n"
     ]
    }
   ],
   "source": [
    "sliding_window = windowSpec.rowsBetween(-2, 0)\n",
    "df_transactions = dataframe_transactions.withColumn(\"SlideAvg\", avg(\"TranAmt\").over(sliding_window))\n",
    "df_transactions = df_transactions.withColumn(\"SlideQty\", count(\"TranAmt\").over(sliding_window))\n",
    "df_transactions = df_transactions.withColumn(\"SlideMin\", min(\"TranAmt\").over(sliding_window))\n",
    "df_transactions = df_transactions.withColumn(\"SlideMax\", max(\"TranAmt\").over(sliding_window))\n",
    "df_transactions = df_transactions.withColumn(\"SlideTotal\", sum(\"TranAmt\").over(sliding_window))\n",
    "df_transactions = df_transactions.withColumn(\"RN\", row_number().over(windowSpec))\n",
    "\n",
    "df_transactions.show()"
   ]
  },
  {
   "cell_type": "code",
   "execution_count": 6,
   "metadata": {},
   "outputs": [
    {
     "name": "stdout",
     "output_type": "stream",
     "text": [
      "+-----+-----------+------+---------+----------+\n",
      "|RowID|      FName|Salary|SumByRows|SumByRange|\n",
      "+-----+-----------+------+---------+----------+\n",
      "|    1|     George|   800|      800|       800|\n",
      "|    2|        Sam|   950|     1750|      1750|\n",
      "|    3|      Diane|  1100|     2850|      2850|\n",
      "|    4|   Nicholas|  1250|     4100|      5350|\n",
      "|    5|     Samuel|  1250|     5350|      5350|\n",
      "|    6|   Patricia|  1300|     6650|      6650|\n",
      "|    7|      Brian|  1500|     8150|      8150|\n",
      "|    8|     Thomas|  1600|     9750|      9750|\n",
      "|    9|       Fran|  2450|    12200|     12200|\n",
      "|   10|     Debbie|  2850|    15050|     15050|\n",
      "|   11|       Mark|  2975|    18025|     18025|\n",
      "|   12|      James|  3000|    21025|     24025|\n",
      "|   13|    Cynthia|  3000|    24025|     24025|\n",
      "|   14|Christopher|  5000|    29025|     29025|\n",
      "+-----+-----------+------+---------+----------+\n",
      "\n"
     ]
    }
   ],
   "source": [
    "data_logical = [\n",
    "    (1, 'George', 800), (2, 'Sam', 950), (3, 'Diane', 1100),\n",
    "    (4, 'Nicholas', 1250), (5, 'Samuel', 1250), (6, 'Patricia', 1300),\n",
    "    (7, 'Brian', 1500), (8, 'Thomas', 1600), (9, 'Fran', 2450),\n",
    "    (10, 'Debbie', 2850), (11, 'Mark', 2975), (12, 'James', 3000),\n",
    "    (13, 'Cynthia', 3000), (14, 'Christopher', 5000)\n",
    "]\n",
    "columns_logical = [\"RowID\", \"FName\", \"Salary\"]\n",
    "df_logical = spark.createDataFrame(data_logical, columns_logical)\n",
    "\n",
    "sum_window = Window.orderBy(\"Salary\").rowsBetween(Window.unboundedPreceding, Window.currentRow)\n",
    "df_logical = df_logical.withColumn(\"SumByRows\", sum(\"Salary\").over(sum_window))\n",
    "df_logical = df_logical.withColumn(\"SumByRange\", sum(\"Salary\").over(Window.orderBy(\"Salary\").rangeBetween(Window.unboundedPreceding, Window.currentRow)))\n",
    "\n",
    "df_logical.show()"
   ]
  }
 ],
 "metadata": {
  "kernelspec": {
   "display_name": "Python 3",
   "language": "python",
   "name": "python3"
  },
  "language_info": {
   "codemirror_mode": {
    "name": "ipython",
    "version": 3
   },
   "file_extension": ".py",
   "mimetype": "text/x-python",
   "name": "python",
   "nbconvert_exporter": "python",
   "pygments_lexer": "ipython3",
   "version": "3.11.0"
  }
 },
 "nbformat": 4,
 "nbformat_minor": 2
}
